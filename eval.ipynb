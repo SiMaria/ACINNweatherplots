{
 "cells": [
  {
   "cell_type": "code",
   "execution_count": 13,
   "metadata": {},
   "outputs": [],
   "source": [
    "#from datetime import datetime\n",
    "#import pytz\n",
    "#import json\n",
    "#import urllib\n",
    "import numpy as np\n",
    "import pandas as pd\n",
    "from datetime import datetime, timedelta"
   ]
  },
  {
   "cell_type": "code",
   "execution_count": 2,
   "metadata": {},
   "outputs": [],
   "source": [
    "base_url = 'http://meteo145.uibk.ac.at/'\n",
    "station = 'innsbruck'\n",
    "time = str(3)\n",
    "\n",
    "url = base_url + station + '/' + time"
   ]
  },
  {
   "cell_type": "code",
   "execution_count": 35,
   "metadata": {},
   "outputs": [
    {
     "data": {
      "text/html": [
       "<div>\n",
       "<style scoped>\n",
       "    .dataframe tbody tr th:only-of-type {\n",
       "        vertical-align: middle;\n",
       "    }\n",
       "\n",
       "    .dataframe tbody tr th {\n",
       "        vertical-align: top;\n",
       "    }\n",
       "\n",
       "    .dataframe thead th {\n",
       "        text-align: right;\n",
       "    }\n",
       "</style>\n",
       "<table border=\"1\" class=\"dataframe\">\n",
       "  <thead>\n",
       "    <tr style=\"text-align: right;\">\n",
       "      <th></th>\n",
       "      <th>rr</th>\n",
       "      <th>dd</th>\n",
       "      <th>tp</th>\n",
       "      <th>p</th>\n",
       "      <th>tl</th>\n",
       "      <th>so</th>\n",
       "      <th>ff</th>\n",
       "    </tr>\n",
       "    <tr>\n",
       "      <th>time</th>\n",
       "      <th></th>\n",
       "      <th></th>\n",
       "      <th></th>\n",
       "      <th></th>\n",
       "      <th></th>\n",
       "      <th></th>\n",
       "      <th></th>\n",
       "    </tr>\n",
       "  </thead>\n",
       "  <tbody>\n",
       "    <tr>\n",
       "      <th>2019-10-21 07:20:00</th>\n",
       "      <td>0.0</td>\n",
       "      <td>240</td>\n",
       "      <td>8.9</td>\n",
       "      <td>948.4</td>\n",
       "      <td>13.7</td>\n",
       "      <td>0.0</td>\n",
       "      <td>3.3</td>\n",
       "    </tr>\n",
       "    <tr>\n",
       "      <th>2019-10-21 07:30:00</th>\n",
       "      <td>0.0</td>\n",
       "      <td>245</td>\n",
       "      <td>9.0</td>\n",
       "      <td>948.2</td>\n",
       "      <td>13.8</td>\n",
       "      <td>0.0</td>\n",
       "      <td>3.4</td>\n",
       "    </tr>\n",
       "    <tr>\n",
       "      <th>2019-10-21 07:40:00</th>\n",
       "      <td>0.0</td>\n",
       "      <td>258</td>\n",
       "      <td>9.0</td>\n",
       "      <td>948.6</td>\n",
       "      <td>13.6</td>\n",
       "      <td>0.0</td>\n",
       "      <td>3.9</td>\n",
       "    </tr>\n",
       "    <tr>\n",
       "      <th>2019-10-21 07:50:00</th>\n",
       "      <td>0.0</td>\n",
       "      <td>242</td>\n",
       "      <td>9.1</td>\n",
       "      <td>948.5</td>\n",
       "      <td>13.5</td>\n",
       "      <td>0.0</td>\n",
       "      <td>2.9</td>\n",
       "    </tr>\n",
       "    <tr>\n",
       "      <th>2019-10-21 08:00:00</th>\n",
       "      <td>0.0</td>\n",
       "      <td>233</td>\n",
       "      <td>9.3</td>\n",
       "      <td>948.2</td>\n",
       "      <td>13.8</td>\n",
       "      <td>0.0</td>\n",
       "      <td>2.7</td>\n",
       "    </tr>\n",
       "  </tbody>\n",
       "</table>\n",
       "</div>"
      ],
      "text/plain": [
       "                      rr   dd   tp      p    tl   so   ff\n",
       "time                                                     \n",
       "2019-10-21 07:20:00  0.0  240  8.9  948.4  13.7  0.0  3.3\n",
       "2019-10-21 07:30:00  0.0  245  9.0  948.2  13.8  0.0  3.4\n",
       "2019-10-21 07:40:00  0.0  258  9.0  948.6  13.6  0.0  3.9\n",
       "2019-10-21 07:50:00  0.0  242  9.1  948.5  13.5  0.0  2.9\n",
       "2019-10-21 08:00:00  0.0  233  9.3  948.2  13.8  0.0  2.7"
      ]
     },
     "execution_count": 35,
     "metadata": {},
     "output_type": "execute_result"
    }
   ],
   "source": [
    "df = pd.read_json(url)\n",
    "df['time'] = [datetime(1970, 1, 1) + timedelta(milliseconds=ds) for ds in df['datumsec']]\n",
    "df = df.set_index('time')\n",
    "df = df.drop(columns='datumsec')\n",
    "df.head()"
   ]
  },
  {
   "cell_type": "code",
   "execution_count": null,
   "metadata": {},
   "outputs": [],
   "source": []
  }
 ],
 "metadata": {
  "kernelspec": {
   "display_name": "Python 3",
   "language": "python",
   "name": "python3"
  },
  "language_info": {
   "codemirror_mode": {
    "name": "ipython",
    "version": 3
   },
   "file_extension": ".py",
   "mimetype": "text/x-python",
   "name": "python",
   "nbconvert_exporter": "python",
   "pygments_lexer": "ipython3",
   "version": "3.6.4"
  }
 },
 "nbformat": 4,
 "nbformat_minor": 2
}
